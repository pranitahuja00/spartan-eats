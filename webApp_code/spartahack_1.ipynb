{
 "cells": [
  {
   "cell_type": "code",
   "execution_count": 3,
   "metadata": {},
   "outputs": [],
   "source": [
    "import polars as pl\n",
    "import pandas as pd\n",
    "import numpy as np\n",
    "import matplotlib.pyplot as plt\n",
    "import seaborn as sns\n",
    "import tensorflow as tf\n",
    "from tensorflow import keras\n",
    "from tensorflow.keras import layers\n",
    "from tensorflow.keras.models import Model\n",
    "from sklearn.preprocessing import LabelEncoder\n",
    "from sklearn.utils import compute_class_weight\n",
    "from collections import Counter\n",
    "from tensorflow.keras.callbacks import EarlyStopping\n",
    "import itertools\n",
    "import warnings\n",
    "warnings.filterwarnings(action=\"ignore\")\n",
    "from zipfile import ZipFile\n",
    "sns.set_style(\"darkgrid\")\n",
    "sns.set_palette(palette=[\"gray\", \"red\", \"green\"])\n",
    "import random\n",
    "import re\n",
    "import pickle\n"
   ]
  },
  {
   "cell_type": "code",
   "execution_count": 4,
   "metadata": {},
   "outputs": [],
   "source": [
    "pd.set_option('display.max_columns', 100)"
   ]
  },
  {
   "cell_type": "code",
   "execution_count": 5,
   "metadata": {},
   "outputs": [
    {
     "data": {
      "text/html": [
       "<div>\n",
       "<style scoped>\n",
       "    .dataframe tbody tr th:only-of-type {\n",
       "        vertical-align: middle;\n",
       "    }\n",
       "\n",
       "    .dataframe tbody tr th {\n",
       "        vertical-align: top;\n",
       "    }\n",
       "\n",
       "    .dataframe thead th {\n",
       "        text-align: right;\n",
       "    }\n",
       "</style>\n",
       "<table border=\"1\" class=\"dataframe\">\n",
       "  <thead>\n",
       "    <tr style=\"text-align: right;\">\n",
       "      <th></th>\n",
       "      <th>Score</th>\n",
       "      <th>Text</th>\n",
       "    </tr>\n",
       "  </thead>\n",
       "  <tbody>\n",
       "    <tr>\n",
       "      <th>0</th>\n",
       "      <td>5</td>\n",
       "      <td>I have bought several of the Vitality canned d...</td>\n",
       "    </tr>\n",
       "    <tr>\n",
       "      <th>1</th>\n",
       "      <td>1</td>\n",
       "      <td>Product arrived labeled as Jumbo Salted Peanut...</td>\n",
       "    </tr>\n",
       "    <tr>\n",
       "      <th>2</th>\n",
       "      <td>4</td>\n",
       "      <td>This is a confection that has been around a fe...</td>\n",
       "    </tr>\n",
       "    <tr>\n",
       "      <th>3</th>\n",
       "      <td>2</td>\n",
       "      <td>If you are looking for the secret ingredient i...</td>\n",
       "    </tr>\n",
       "    <tr>\n",
       "      <th>4</th>\n",
       "      <td>5</td>\n",
       "      <td>Great taffy at a great price.  There was a wid...</td>\n",
       "    </tr>\n",
       "  </tbody>\n",
       "</table>\n",
       "</div>"
      ],
      "text/plain": [
       "   Score                                               Text\n",
       "0      5  I have bought several of the Vitality canned d...\n",
       "1      1  Product arrived labeled as Jumbo Salted Peanut...\n",
       "2      4  This is a confection that has been around a fe...\n",
       "3      2  If you are looking for the secret ingredient i...\n",
       "4      5  Great taffy at a great price.  There was a wid..."
      ]
     },
     "execution_count": 5,
     "metadata": {},
     "output_type": "execute_result"
    }
   ],
   "source": [
    "df = pd.read_csv(\"Reviews.csv\")\n",
    "# df = df.select(\"Score\", \"Text\")\n",
    "df = df[[\"Score\", \"Text\"]]\n",
    "df = df.iloc[:10000, :]\n",
    "df.head()"
   ]
  },
  {
   "cell_type": "code",
   "execution_count": 6,
   "metadata": {},
   "outputs": [
    {
     "data": {
      "text/plain": [
       "(10000, 2)"
      ]
     },
     "execution_count": 6,
     "metadata": {},
     "output_type": "execute_result"
    }
   ],
   "source": [
    "df.shape"
   ]
  },
  {
   "cell_type": "code",
   "execution_count": 7,
   "metadata": {},
   "outputs": [],
   "source": [
    "def clean_text(text):\n",
    "    text = re.sub(r'@[\\w_]+', '', text)\n",
    "    text = re.sub(r'http\\S+|www\\S+|https\\S+', '', text, flags=re.MULTILINE)\n",
    "    text = re.sub(r'#\\w+', '', text)\n",
    "    text = re.sub(r'\\S*@\\S*\\s?', '', text)\n",
    "\n",
    "    return text.strip()"
   ]
  },
  {
   "cell_type": "code",
   "execution_count": 8,
   "metadata": {},
   "outputs": [],
   "source": [
    "df[\"clean_text\"] = df[\"Text\"].apply(clean_text)"
   ]
  },
  {
   "cell_type": "code",
   "execution_count": 9,
   "metadata": {},
   "outputs": [],
   "source": [
    "def get_sentiment(score): \n",
    "    if score > 3:\n",
    "        return \"Positive\"\n",
    "    elif score < 3:\n",
    "        return \"Negative\"\n",
    "    else:\n",
    "        return \"Neutral\""
   ]
  },
  {
   "cell_type": "code",
   "execution_count": 10,
   "metadata": {},
   "outputs": [
    {
     "data": {
      "text/html": [
       "<div>\n",
       "<style scoped>\n",
       "    .dataframe tbody tr th:only-of-type {\n",
       "        vertical-align: middle;\n",
       "    }\n",
       "\n",
       "    .dataframe tbody tr th {\n",
       "        vertical-align: top;\n",
       "    }\n",
       "\n",
       "    .dataframe thead th {\n",
       "        text-align: right;\n",
       "    }\n",
       "</style>\n",
       "<table border=\"1\" class=\"dataframe\">\n",
       "  <thead>\n",
       "    <tr style=\"text-align: right;\">\n",
       "      <th></th>\n",
       "      <th>Score</th>\n",
       "      <th>Text</th>\n",
       "      <th>clean_text</th>\n",
       "      <th>length</th>\n",
       "      <th>sentiment</th>\n",
       "    </tr>\n",
       "  </thead>\n",
       "  <tbody>\n",
       "    <tr>\n",
       "      <th>0</th>\n",
       "      <td>5</td>\n",
       "      <td>I have bought several of the Vitality canned d...</td>\n",
       "      <td>I have bought several of the Vitality canned d...</td>\n",
       "      <td>48</td>\n",
       "      <td>Positive</td>\n",
       "    </tr>\n",
       "    <tr>\n",
       "      <th>1</th>\n",
       "      <td>1</td>\n",
       "      <td>Product arrived labeled as Jumbo Salted Peanut...</td>\n",
       "      <td>Product arrived labeled as Jumbo Salted Peanut...</td>\n",
       "      <td>31</td>\n",
       "      <td>Negative</td>\n",
       "    </tr>\n",
       "    <tr>\n",
       "      <th>2</th>\n",
       "      <td>4</td>\n",
       "      <td>This is a confection that has been around a fe...</td>\n",
       "      <td>This is a confection that has been around a fe...</td>\n",
       "      <td>94</td>\n",
       "      <td>Positive</td>\n",
       "    </tr>\n",
       "    <tr>\n",
       "      <th>3</th>\n",
       "      <td>2</td>\n",
       "      <td>If you are looking for the secret ingredient i...</td>\n",
       "      <td>If you are looking for the secret ingredient i...</td>\n",
       "      <td>41</td>\n",
       "      <td>Negative</td>\n",
       "    </tr>\n",
       "    <tr>\n",
       "      <th>4</th>\n",
       "      <td>5</td>\n",
       "      <td>Great taffy at a great price.  There was a wid...</td>\n",
       "      <td>Great taffy at a great price.  There was a wid...</td>\n",
       "      <td>27</td>\n",
       "      <td>Positive</td>\n",
       "    </tr>\n",
       "  </tbody>\n",
       "</table>\n",
       "</div>"
      ],
      "text/plain": [
       "   Score                                               Text  \\\n",
       "0      5  I have bought several of the Vitality canned d...   \n",
       "1      1  Product arrived labeled as Jumbo Salted Peanut...   \n",
       "2      4  This is a confection that has been around a fe...   \n",
       "3      2  If you are looking for the secret ingredient i...   \n",
       "4      5  Great taffy at a great price.  There was a wid...   \n",
       "\n",
       "                                          clean_text  length sentiment  \n",
       "0  I have bought several of the Vitality canned d...      48  Positive  \n",
       "1  Product arrived labeled as Jumbo Salted Peanut...      31  Negative  \n",
       "2  This is a confection that has been around a fe...      94  Positive  \n",
       "3  If you are looking for the secret ingredient i...      41  Negative  \n",
       "4  Great taffy at a great price.  There was a wid...      27  Positive  "
      ]
     },
     "execution_count": 10,
     "metadata": {},
     "output_type": "execute_result"
    }
   ],
   "source": [
    "df['length'] = df['clean_text'].apply(lambda x: len(str(x).split()))\n",
    "df['sentiment'] = df['Score'].apply(get_sentiment)\n",
    "df.head()"
   ]
  },
  {
   "cell_type": "markdown",
   "metadata": {},
   "source": [
    "## Distribution of sentiment categories"
   ]
  },
  {
   "cell_type": "code",
   "execution_count": 11,
   "metadata": {},
   "outputs": [
    {
     "data": {
      "text/html": [
       "<div>\n",
       "<style scoped>\n",
       "    .dataframe tbody tr th:only-of-type {\n",
       "        vertical-align: middle;\n",
       "    }\n",
       "\n",
       "    .dataframe tbody tr th {\n",
       "        vertical-align: top;\n",
       "    }\n",
       "\n",
       "    .dataframe thead th {\n",
       "        text-align: right;\n",
       "    }\n",
       "</style>\n",
       "<table border=\"1\" class=\"dataframe\">\n",
       "  <thead>\n",
       "    <tr style=\"text-align: right;\">\n",
       "      <th></th>\n",
       "      <th>Score</th>\n",
       "      <th>Text</th>\n",
       "      <th>clean_text</th>\n",
       "      <th>length</th>\n",
       "    </tr>\n",
       "    <tr>\n",
       "      <th>sentiment</th>\n",
       "      <th></th>\n",
       "      <th></th>\n",
       "      <th></th>\n",
       "      <th></th>\n",
       "    </tr>\n",
       "  </thead>\n",
       "  <tbody>\n",
       "    <tr>\n",
       "      <th>Negative</th>\n",
       "      <td>1522</td>\n",
       "      <td>1522</td>\n",
       "      <td>1522</td>\n",
       "      <td>1522</td>\n",
       "    </tr>\n",
       "    <tr>\n",
       "      <th>Neutral</th>\n",
       "      <td>862</td>\n",
       "      <td>862</td>\n",
       "      <td>862</td>\n",
       "      <td>862</td>\n",
       "    </tr>\n",
       "    <tr>\n",
       "      <th>Positive</th>\n",
       "      <td>7616</td>\n",
       "      <td>7616</td>\n",
       "      <td>7616</td>\n",
       "      <td>7616</td>\n",
       "    </tr>\n",
       "  </tbody>\n",
       "</table>\n",
       "</div>"
      ],
      "text/plain": [
       "           Score  Text  clean_text  length\n",
       "sentiment                                 \n",
       "Negative    1522  1522        1522    1522\n",
       "Neutral      862   862         862     862\n",
       "Positive    7616  7616        7616    7616"
      ]
     },
     "execution_count": 11,
     "metadata": {},
     "output_type": "execute_result"
    }
   ],
   "source": [
    "sentiment_counts = df.groupby(\"sentiment\").count()\n",
    "sentiment_counts.head()"
   ]
  },
  {
   "cell_type": "code",
   "execution_count": 12,
   "metadata": {},
   "outputs": [],
   "source": [
    "# sentiment_counts = df.groupby(\"sentiment\").count()\n",
    "\n",
    "# fig, ax = plt.subplots()\n",
    "# ax.pie(\n",
    "#     # x=sentiment_counts[\"count\"], \n",
    "#     labels=sentiment_counts[\"sentiment\"],\n",
    "#     autopct=lambda p: f'{p:.2f}%\\n({int(p*sum(sentiment_counts[\"count\"])/100)})', \n",
    "#     wedgeprops=dict(width=0.7),\n",
    "#     textprops = dict(size=10),\n",
    "#     pctdistance = 0.7)\n",
    "\n",
    "# center_circle = plt.Circle((0, 0), 0.1, color='black', fc='white', linewidth=1.25)\n",
    "# fig.gca().add_artist(center_circle)\n",
    "# ax.set_title(\"Distribution of sentiment labels\", weight=\"bold\")\n",
    "# plt.show()\n"
   ]
  },
  {
   "cell_type": "markdown",
   "metadata": {},
   "source": [
    "### The dataset is highly imbalanced so downsampling the majority class"
   ]
  },
  {
   "cell_type": "code",
   "execution_count": 13,
   "metadata": {},
   "outputs": [],
   "source": [
    "neu_df = df[df[\"sentiment\"] == \"Neutral\"]\n",
    "neg_df = df[df[\"sentiment\"] == \"Negative\"]\n",
    "pos_df = df[df[\"sentiment\"] == \"Positive\"]\n",
    "\n",
    "pos_df = pos_df.sample(len(neg_df))\n",
    "\n",
    "df2 = pd.concat([neg_df, neu_df, pos_df], axis=0)"
   ]
  },
  {
   "cell_type": "code",
   "execution_count": 14,
   "metadata": {},
   "outputs": [],
   "source": [
    "#To clear RAM due to the size of the dataset.\n",
    "del neu_df, neg_df, pos_df, df  "
   ]
  },
  {
   "cell_type": "markdown",
   "metadata": {},
   "source": [
    "### Distribution of sentences length"
   ]
  },
  {
   "cell_type": "code",
   "execution_count": 15,
   "metadata": {},
   "outputs": [
    {
     "data": {
      "image/png": "[encoded data removed]",
      "text/plain": [
       "<Figure size 600x400 with 1 Axes>"
      ]
     },
     "metadata": {},
     "output_type": "display_data"
    }
   ],
   "source": [
    "fig, ax = plt.subplots(figsize=(6, 4))\n",
    "sns.kdeplot(data=df2, x=\"length\", shade=True, hue=\"sentiment\", clip=[0, 400], ax=ax)\n",
    "ax.set_title(\"Distribution of sentence length\", size=13, weight=\"bold\")\n",
    "plt.show()\n"
   ]
  },
  {
   "cell_type": "code",
   "execution_count": 16,
   "metadata": {},
   "outputs": [],
   "source": [
    "target = df2[\"sentiment\"]\n",
    "label_encoder = LabelEncoder()\n",
    "target = label_encoder.fit_transform(target)"
   ]
  },
  {
   "cell_type": "markdown",
   "metadata": {},
   "source": [
    "### Splitting the data to Training, Testing & Validation set"
   ]
  },
  {
   "cell_type": "code",
   "execution_count": 17,
   "metadata": {},
   "outputs": [],
   "source": [
    "def split_data(X, y = None, *, train_ratio=0.7, test_ratio=0.15, validation_ratio=0.15, seed=None):\n",
    "    if train_ratio + test_ratio + validation_ratio != 1.0:\n",
    "        raise ValueError(\"Ratios should add up to 1.0\")\n",
    "\n",
    "    total_length = len(X)\n",
    "    train_size = int(train_ratio * total_length)\n",
    "    test_size = int(test_ratio * total_length)\n",
    "\n",
    "    if seed is not None:\n",
    "        np.random.seed(seed)\n",
    "    index = np.random.permutation(np.arange(total_length))\n",
    "    X = np.array(X)[index]\n",
    "\n",
    "    train_X = X[:train_size]\n",
    "    test_X = X[train_size:train_size + test_size]\n",
    "    validation_X = X[train_size + test_size:]\n",
    "\n",
    "    if y is not None:\n",
    "        y = y[index]\n",
    "        train_y = y[:train_size]\n",
    "        test_y = y[train_size:train_size + test_size]\n",
    "        validation_y = y[train_size + test_size:]\n",
    "\n",
    "        return (train_X, train_y), (test_X, test_y), (validation_X, validation_y)\n",
    "    return train_X, test_X, validation_X"
   ]
  },
  {
   "cell_type": "code",
   "execution_count": 18,
   "metadata": {},
   "outputs": [],
   "source": [
    "train_data, test_data, validation_data = split_data(\n",
    "    df2[\"clean_text\"],\n",
    "    target,\n",
    "    train_ratio=0.7,\n",
    "    test_ratio=0.15,\n",
    "    validation_ratio=0.15,\n",
    "    seed=42)"
   ]
  },
  {
   "cell_type": "markdown",
   "metadata": {},
   "source": [
    "### Vectorizing and preparing Tensorflow Datasets.\n"
   ]
  },
  {
   "cell_type": "markdown",
   "metadata": {},
   "source": [
    "- max_tokens: Limits vocabulary size to 40,000 tokens for memory efficiency.\n",
    "- seq_len: Sets max sequence length for input sequences to 150 tokens.\n",
    "- batch_size: Specifies 64 samples processed in each training iteration."
   ]
  },
  {
   "cell_type": "code",
   "execution_count": 19,
   "metadata": {},
   "outputs": [
    {
     "name": "stdout",
     "output_type": "stream",
     "text": [
      "WARNING:tensorflow:From c:\\Users\\visha\\anaconda3\\Lib\\site-packages\\keras\\src\\backend.py:873: The name tf.get_default_graph is deprecated. Please use tf.compat.v1.get_default_graph instead.\n",
      "\n",
      "WARNING:tensorflow:From c:\\Users\\visha\\anaconda3\\Lib\\site-packages\\keras\\src\\utils\\tf_utils.py:492: The name tf.ragged.RaggedTensorValue is deprecated. Please use tf.compat.v1.ragged.RaggedTensorValue instead.\n",
      "\n"
     ]
    }
   ],
   "source": [
    "max_tokens = 40000\n",
    "seq_len = 200\n",
    "batch_size = 64\n",
    "\n",
    "feature_vectorizer = layers.TextVectorization(\n",
    "    max_tokens=max_tokens,\n",
    "    standardize='lower_and_strip_punctuation',\n",
    "    output_mode='int',\n",
    "    output_sequence_length=seq_len,\n",
    "    encoding='utf-8',)\n",
    "\n",
    "feature_vectorizer.adapt(train_data[0])"
   ]
  },
  {
   "cell_type": "code",
   "execution_count": 20,
   "metadata": {},
   "outputs": [],
   "source": [
    "X_train = feature_vectorizer(train_data[0])\n",
    "X_test = feature_vectorizer(test_data[0])\n",
    "X_valid = feature_vectorizer(validation_data[0])\n",
    "\n",
    "y_train = train_data[1]\n",
    "y_test = test_data[1]\n",
    "y_valid = validation_data[1]"
   ]
  },
  {
   "cell_type": "code",
   "execution_count": 21,
   "metadata": {},
   "outputs": [],
   "source": [
    "del train_data, target, validation_data"
   ]
  },
  {
   "cell_type": "code",
   "execution_count": 22,
   "metadata": {},
   "outputs": [],
   "source": [
    "train_ds = tf.data.Dataset.from_tensor_slices((X_train, y_train))\n",
    "test_ds = tf.data.Dataset.from_tensor_slices((X_test, y_test))\n",
    "val_ds = tf.data.Dataset.from_tensor_slices((X_valid, y_valid))\n",
    "\n",
    "train_ds = train_ds.shuffle(5000).batch(batch_size, drop_remainder=True).prefetch(tf.data.AUTOTUNE)\n",
    "test_ds = test_ds.shuffle(5000).batch(batch_size, drop_remainder=True).prefetch(tf.data.AUTOTUNE)\n",
    "val_ds = val_ds.shuffle(5000).batch(batch_size, drop_remainder=True).prefetch(tf.data.AUTOTUNE)"
   ]
  },
  {
   "cell_type": "code",
   "execution_count": 23,
   "metadata": {},
   "outputs": [
    {
     "name": "stdout",
     "output_type": "stream",
     "text": [
      "tf.Tensor([200], shape=(1,), dtype=int32)\n",
      "\n",
      "Inputs: [ 127   16  436  277 4427  381    2  554    4 4357   38  165    5   88\n",
      "    6  266  130   90   73   23]\n",
      "Target: 0\n",
      "tf.Tensor([200], shape=(1,), dtype=int32)\n",
      "\n",
      "Inputs: [  80  966    6   29  637   11  637    4  109   81  637   47  378    2\n",
      "  860   24  660 1280   38  192]\n",
      "Target: 2\n"
     ]
    }
   ],
   "source": [
    "for inputs, target in train_ds.take(1).as_numpy_iterator():\n",
    "    for i in range(2):\n",
    "        print(tf.shape(inputs[i]))\n",
    "        print()\n",
    "        print(\"Inputs:\", inputs[i, :20])\n",
    "        print(\"Target:\", target[i])"
   ]
  },
  {
   "cell_type": "markdown",
   "metadata": {},
   "source": [
    "## The Transformer Encoder Block\n"
   ]
  },
  {
   "cell_type": "code",
   "execution_count": 24,
   "metadata": {},
   "outputs": [],
   "source": [
    "class TransformerBlock(layers.Layer):\n",
    "    def __init__(self, emb_dim, num_heads, ff_dim, dropout, **kwargs):\n",
    "        super().__init__(**kwargs)\n",
    "        self.emb_dim = emb_dim\n",
    "        self.num_heads = num_heads\n",
    "        self.ff_dim = ff_dim\n",
    "        self.attention = layers.MultiHeadAttention(self.num_heads, self.emb_dim,)\n",
    "        self.layer_norm1 = layers.LayerNormalization()\n",
    "        self.layer_norm2 = layers.LayerNormalization()\n",
    "        self.fc = layers.Dense(self.ff_dim, activation=\"relu\")\n",
    "        self.dropout = layers.Dropout(dropout)\n",
    "\n",
    "    def call(self, inputs):\n",
    "        att_outputs = self.attention(inputs, inputs)\n",
    "        att_outputs = self.dropout(att_outputs)\n",
    "        x = self.layer_norm1(inputs+att_outputs)\n",
    "        fc_output = self.fc(x)\n",
    "        return self.layer_norm2(x + fc_output)\n",
    "\n",
    "    def get_config(self):\n",
    "        config = super().get_config()\n",
    "        config.update({\n",
    "            \"embedding_dim\": self.emb_dim,\n",
    "            \"num_heads\": self.num_heads,\n",
    "            \"hidden_dim\": self.ff_dim\n",
    "        })\n",
    "        return config"
   ]
  },
  {
   "cell_type": "code",
   "execution_count": 25,
   "metadata": {},
   "outputs": [],
   "source": [
    "class TokenAndPositionalEmbedding(layers.Layer):\n",
    "    def __init__(self, emb_dim, seq_len, **kwargs):\n",
    "        super().__init__(**kwargs)\n",
    "        self.emb_dim = emb_dim\n",
    "        self.vectorizer = feature_vectorizer\n",
    "        self.seq_len = seq_len\n",
    "        self.vocab_size = self.vectorizer.vocabulary_size()\n",
    "        self.token_embeddings = layers.Embedding(self.vocab_size, self.emb_dim, mask_zero=True)\n",
    "        self.pos_embeddings = layers.Embedding(self.seq_len, self.emb_dim)\n",
    "\n",
    "    def call(self, inputs):\n",
    "        x = self.token_embeddings(inputs)\n",
    "        positions = tf.range(0, self.seq_len)\n",
    "        pos_emb = self.pos_embeddings(positions)\n",
    "        return x + pos_emb"
   ]
  },
  {
   "cell_type": "code",
   "execution_count": 26,
   "metadata": {},
   "outputs": [],
   "source": [
    "class SentimentModel(Model):\n",
    "\n",
    "    @classmethod\n",
    "    def add_method(cls, func):\n",
    "        setattr(cls, func.__name__, func)\n",
    "        return func\n",
    "\n",
    "    def __init__(self, emb_dim, num_heads, ff_dim, seq_len, dropout, output_shape, **kwargs):\n",
    "        super().__init__(**kwargs)\n",
    "        self.seq_len = seq_len\n",
    "        self.embeddings = TokenAndPositionalEmbedding(emb_dim, seq_len)\n",
    "        self.encoder = TransformerBlock(emb_dim, num_heads, ff_dim, dropout, name=\"transform-block\")\n",
    "        self.pooling = layers.GlobalAveragePooling1D()\n",
    "        self.dropout = layers.Dropout(dropout)\n",
    "        self.fc = layers.Dense(output_shape, activation=\"softmax\")\n",
    "\n",
    "    def call(self, inputs):\n",
    "        x = self.embeddings(inputs)\n",
    "        x = self.encoder(x)\n",
    "        x = self.pooling(x)\n",
    "        x = self.dropout(x)\n",
    "        outputs = self.fc(x)\n",
    "        return outputs"
   ]
  },
  {
   "cell_type": "code",
   "execution_count": 27,
   "metadata": {},
   "outputs": [
    {
     "name": "stdout",
     "output_type": "stream",
     "text": [
      "WARNING:tensorflow:From c:\\Users\\visha\\anaconda3\\Lib\\site-packages\\keras\\src\\engine\\base_layer_utils.py:189: The name tf.placeholder is deprecated. Please use tf.compat.v1.placeholder instead.\n",
      "\n",
      "WARNING:tensorflow:From c:\\Users\\visha\\anaconda3\\Lib\\site-packages\\keras\\src\\layers\\normalization\\layer_normalization.py:328: The name tf.nn.fused_batch_norm is deprecated. Please use tf.compat.v1.nn.fused_batch_norm instead.\n",
      "\n",
      "Model: \"sentiment_model\"\n",
      "_________________________________________________________________\n",
      " Layer (type)                Output Shape              Param #   \n",
      "=================================================================\n",
      " token_and_positional_embed  multiple                  3290368   \n",
      " ding (TokenAndPositionalEm                                      \n",
      " bedding)                                                        \n",
      "                                                                 \n",
      " transform-block (Transform  multiple                  1381632   \n",
      " erBlock)                                                        \n",
      "                                                                 \n",
      " global_average_pooling1d (  multiple                  0         \n",
      " GlobalAveragePooling1D)                                         \n",
      "                                                                 \n",
      " dropout_1 (Dropout)         multiple                  0         \n",
      "                                                                 \n",
      " dense_1 (Dense)             multiple                  771       \n",
      "                                                                 \n",
      "=================================================================\n",
      "Total params: 4672771 (17.83 MB)\n",
      "Trainable params: 4672771 (17.83 MB)\n",
      "Non-trainable params: 0 (0.00 Byte)\n",
      "_________________________________________________________________\n"
     ]
    }
   ],
   "source": [
    "emb_dim = 256\n",
    "num_heads = 5\n",
    "ff_dim = 256\n",
    "dropout = 0.50\n",
    "output_shape = 3\n",
    "\n",
    "model = SentimentModel(emb_dim, num_heads, ff_dim, seq_len, dropout, output_shape)\n",
    "model.build(input_shape=(None, seq_len))\n",
    "model.summary()"
   ]
  },
  {
   "cell_type": "code",
   "execution_count": 28,
   "metadata": {},
   "outputs": [],
   "source": [
    "loss = keras.losses.SparseCategoricalCrossentropy()\n",
    "optimizer = keras.optimizers.Adam()\n",
    "\n",
    "model.compile(optimizer=optimizer, loss=loss, metrics=[\"acc\"])"
   ]
  },
  {
   "cell_type": "code",
   "execution_count": 29,
   "metadata": {},
   "outputs": [
    {
     "name": "stdout",
     "output_type": "stream",
     "text": [
      "Epoch 1/10\n"
     ]
    },
    {
     "name": "stdout",
     "output_type": "stream",
     "text": [
      "42/42 [==============================] - 24s 501ms/step - loss: 1.4310 - acc: 0.3731 - val_loss: 1.0486 - val_acc: 0.4549\n",
      "Epoch 2/10\n",
      "42/42 [==============================] - 25s 590ms/step - loss: 1.0747 - acc: 0.4334 - val_loss: 0.9858 - val_acc: 0.5486\n",
      "Epoch 3/10\n",
      "42/42 [==============================] - 26s 604ms/step - loss: 0.8429 - acc: 0.6101 - val_loss: 0.8880 - val_acc: 0.6059\n",
      "Epoch 4/10\n",
      "42/42 [==============================] - 20s 482ms/step - loss: 0.4488 - acc: 0.8248 - val_loss: 0.7961 - val_acc: 0.6806\n",
      "Epoch 5/10\n",
      "42/42 [==============================] - 21s 496ms/step - loss: 0.1567 - acc: 0.9461 - val_loss: 1.1508 - val_acc: 0.6771\n",
      "Epoch 6/10\n",
      "42/42 [==============================] - 21s 509ms/step - loss: 0.0529 - acc: 0.9825 - val_loss: 1.7689 - val_acc: 0.6701\n",
      "Epoch 7/10\n",
      "42/42 [==============================] - 20s 488ms/step - loss: 0.0236 - acc: 0.9926 - val_loss: 1.8975 - val_acc: 0.6545\n"
     ]
    }
   ],
   "source": [
    "epochs = 10\n",
    "early_stopping = EarlyStopping(patience=3, min_delta=1e-2, monitor=\"val_loss\", restore_best_weights=True)\n",
    "\n",
    "history = model.fit(\n",
    "    train_ds,\n",
    "    epochs = epochs,\n",
    "    callbacks=[early_stopping],\n",
    "    validation_data=val_ds)"
   ]
  },
  {
   "cell_type": "markdown",
   "metadata": {},
   "source": [
    "### Qualitative Evaluation"
   ]
  },
  {
   "cell_type": "code",
   "execution_count": 30,
   "metadata": {},
   "outputs": [],
   "source": [
    "@model.add_method\n",
    "def classify_sentence(self, sentence):\n",
    "    tokens = self.embeddings.vectorizer(sentence)\n",
    "    tokens = tf.expand_dims(tokens, 0)\n",
    "    proba = self(tokens)\n",
    "    preds = tf.argmax(proba, axis = 1).numpy()\n",
    "    return {\n",
    "        \"Predicted\": label_encoder.inverse_transform(preds)[0],\n",
    "        \"Probability\": np.squeeze(proba.numpy())[preds[0]]\n",
    "    }"
   ]
  },
  {
   "cell_type": "code",
   "execution_count": 31,
   "metadata": {},
   "outputs": [],
   "source": [
    "def predict_random():\n",
    "    score = 0\n",
    "    x_test, y_test = test_data\n",
    "    indexes = np.random.choice(len(x_test), 10)\n",
    "    for i in indexes:\n",
    "        pred_dict = model.classify_sentence(x_test[i])\n",
    "        pred_dict[\"Actual\"] = label_encoder.inverse_transform(y_test[[i]])[0]\n",
    "        score += pred_dict[\"Predicted\"] == pred_dict[\"Actual\"]\n",
    "        print(pred_dict)\n",
    "    print(f\"\\nTotal Accuracy: {(score/10):.2%}\")"
   ]
  },
  {
   "cell_type": "code",
   "execution_count": 32,
   "metadata": {},
   "outputs": [
    {
     "name": "stdout",
     "output_type": "stream",
     "text": [
      "{'Predicted': 'Negative', 'Probability': 0.9983606, 'Actual': 'Negative'}\n",
      "{'Predicted': 'Neutral', 'Probability': 0.98741174, 'Actual': 'Negative'}\n",
      "{'Predicted': 'Positive', 'Probability': 0.62749255, 'Actual': 'Negative'}\n",
      "{'Predicted': 'Neutral', 'Probability': 0.916243, 'Actual': 'Neutral'}\n",
      "{'Predicted': 'Neutral', 'Probability': 0.83632725, 'Actual': 'Neutral'}\n",
      "{'Predicted': 'Positive', 'Probability': 0.9775098, 'Actual': 'Positive'}\n",
      "{'Predicted': 'Positive', 'Probability': 0.5448961, 'Actual': 'Positive'}\n",
      "{'Predicted': 'Positive', 'Probability': 0.6595642, 'Actual': 'Positive'}\n",
      "{'Predicted': 'Positive', 'Probability': 0.88413477, 'Actual': 'Neutral'}\n",
      "{'Predicted': 'Negative', 'Probability': 0.95396346, 'Actual': 'Negative'}\n",
      "\n",
      "Total Accuracy: 70.00%\n"
     ]
    }
   ],
   "source": [
    "predict_random()"
   ]
  },
  {
   "cell_type": "markdown",
   "metadata": {},
   "source": [
    "### Quantitative Evaluation"
   ]
  },
  {
   "cell_type": "code",
   "execution_count": 33,
   "metadata": {},
   "outputs": [
    {
     "data": {
      "image/png": "[encoded data removed]",
      "text/plain": [
       "<Figure size 900x400 with 2 Axes>"
      ]
     },
     "metadata": {},
     "output_type": "display_data"
    }
   ],
   "source": [
    "fig, axes = plt.subplots(nrows=1, ncols=2, figsize=(9, 4))\n",
    "\n",
    "axes[0].plot(history.history['loss'], label='Training Loss')\n",
    "axes[0].plot(history.history['val_loss'], label='Validation Loss')\n",
    "axes[0].set_title('Training and Validation Loss')\n",
    "axes[0].set_xlabel('Epoch')\n",
    "axes[0].set_ylabel('Loss')\n",
    "axes[0].legend()\n",
    "\n",
    "axes[1].plot(history.history['acc'], label='Training Accuracy')\n",
    "axes[1].plot(history.history['val_acc'], label='Validation Accuracy')\n",
    "axes[1].set_title('Training and Validation Accuracy')\n",
    "axes[1].set_xlabel('Epoch')\n",
    "axes[1].set_ylabel('Accuracy')\n",
    "axes[1].legend()\n",
    "\n",
    "plt.tight_layout()\n",
    "plt.show()"
   ]
  },
  {
   "cell_type": "code",
   "execution_count": 34,
   "metadata": {},
   "outputs": [
    {
     "name": "stdout",
     "output_type": "stream",
     "text": [
      "42/42 [==============================] - 7s 160ms/step - loss: 0.1825 - acc: 0.9442\n",
      "9/9 [==============================] - 1s 159ms/step - loss: 0.7850 - acc: 0.6823\n",
      "9/9 [==============================] - 1s 161ms/step - loss: 0.8736 - acc: 0.6545\n"
     ]
    },
    {
     "data": {
      "text/plain": [
       "[0.8736371994018555, 0.6545138955116272]"
      ]
     },
     "execution_count": 34,
     "metadata": {},
     "output_type": "execute_result"
    }
   ],
   "source": [
    "model.evaluate(train_ds)\n",
    "model.evaluate(val_ds)\n",
    "model.evaluate(test_ds)"
   ]
  },
  {
   "cell_type": "code",
   "execution_count": 35,
   "metadata": {},
   "outputs": [],
   "source": [
    "# Exporting the model as a .pkl file\n",
    "filename = \"model.pkl\"\n",
    "pickle.dump(model, open(filename, 'wb'))"
   ]
  }
 ],
 "metadata": {
  "kernelspec": {
   "display_name": "base",
   "language": "python",
   "name": "python3"
  },
  "language_info": {
   "codemirror_mode": {
    "name": "ipython",
    "version": 3
   },
   "file_extension": ".py",
   "mimetype": "text/x-python",
   "name": "python",
   "nbconvert_exporter": "python",
   "pygments_lexer": "ipython3",
   "version": "3.11.4"
  }
 },
 "nbformat": 4,
 "nbformat_minor": 2
}
